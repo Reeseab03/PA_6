{
 "cells": [
  {
   "cell_type": "markdown",
   "id": "eef78e7d",
   "metadata": {},
   "source": [
    "# Assignment 6"
   ]
  },
  {
   "cell_type": "markdown",
   "id": "678b0608",
   "metadata": {},
   "source": [
    "## Reese Bottorff"
   ]
  },
  {
   "cell_type": "markdown",
   "id": "d45a24c6",
   "metadata": {},
   "source": [
    "### CS-150"
   ]
  },
  {
   "cell_type": "code",
   "execution_count": 3,
   "id": "c972b494",
   "metadata": {},
   "outputs": [
    {
     "name": "stdout",
     "output_type": "stream",
     "text": [
      "Enter one side of the triangle: 5\n",
      "Enter one side of the triangle: 5\n",
      "Enter one side of the triangle: 5\n",
      "The area of the triangle is 10.825317547305483\n",
      "The perimeter of the triangle is 15\n"
     ]
    }
   ],
   "source": [
    "#semi-perimeter\n",
    "s= (a+b+c)/2\n",
    "def calcArea(a,b,c):\n",
    "    return (s*(s-a)*(s-b)*(s-c)) ** 0.5\n",
    "def calcPerimeter(a,b,c):\n",
    "    return (a+b+c)\n",
    "a=int(input(\"Enter one side of the triangle: \"))\n",
    "b=int(input(\"Enter one side of the triangle: \"))\n",
    "c=int(input(\"Enter one side of the triangle: \"))\n",
    "\n",
    "print(f\"The area of the triangle is {calcArea(a,b,c)}\")\n",
    "print(f\"The perimeter of the triangle is {calcPerimeter(a,b,c)}\")"
   ]
  },
  {
   "cell_type": "code",
   "execution_count": 4,
   "id": "aa92205f",
   "metadata": {},
   "outputs": [
    {
     "name": "stdout",
     "output_type": "stream",
     "text": [
      "Guess a number between 1-1000: 4\n",
      "Too low! Try again\n",
      "Guess a number between 1-1000: 67\n",
      "Too low! Try again\n",
      "Guess a number between 1-1000: 83\n",
      "Too low! Try again\n",
      "Guess a number between 1-1000: 753\n",
      "Too high! Try again\n",
      "Guess a number between 1-1000: 645\n",
      "Too high! Try again\n",
      "Guess a number between 1-1000: 432\n",
      "Too low! Try again\n",
      "Guess a number between 1-1000: 543\n",
      "Too low! Try again\n",
      "Guess a number between 1-1000: 555\n",
      "Too low! Try again\n",
      "Guess a number between 1-1000: 632\n",
      "Too high! Try again\n",
      "Guess a number between 1-1000: 600\n",
      "Too high! Try again\n",
      "Guess a number between 1-1000: 578\n",
      "Too high! Try again\n",
      "Guess a number between 1-1000: 564\n",
      "Too low! Try again\n",
      "Guess a number between 1-1000: 566\n",
      "Too low! Try again\n",
      "Guess a number between 1-1000: 569\n",
      "Too low! Try again\n",
      "Guess a number between 1-1000: 570\n",
      "Too low! Try again\n",
      "Guess a number between 1-1000: 571\n",
      "Too low! Try again\n",
      "Guess a number between 1-1000: 572\n",
      "Correct!\n"
     ]
    }
   ],
   "source": [
    "import random\n",
    "random_number=random.randint(1,1000)\n",
    "entered_number=None\n",
    "while entered_number!=random_number:\n",
    "    entered_number=int(input(\"Guess a number between 1-1000: \"))\n",
    "    if entered_number==random_number:\n",
    "        print(\"Correct!\")\n",
    "    elif entered_number<random_number:\n",
    "        print(\"Too low! Try again\")\n",
    "    else:\n",
    "        print(\"Too high! Try again\")"
   ]
  },
  {
   "cell_type": "code",
   "execution_count": 13,
   "id": "1c669eb3",
   "metadata": {},
   "outputs": [],
   "source": [
    "def meanTemp(*number):\n",
    "    for i in number:\n",
    "        return sum(i)/len(i)\n"
   ]
  },
  {
   "cell_type": "code",
   "execution_count": 18,
   "id": "2cb962ab",
   "metadata": {},
   "outputs": [
    {
     "name": "stdout",
     "output_type": "stream",
     "text": [
      "The mean temoerature for the past 5 days is 3.2 degrees F\n"
     ]
    }
   ],
   "source": [
    "Input=[1,2,3,4,6] \n",
    "print(f\"The mean temoerature for the past {len(Input)} days is {meanTemp(Input)} degrees F\")"
   ]
  },
  {
   "cell_type": "code",
   "execution_count": null,
   "id": "3c04855f",
   "metadata": {},
   "outputs": [],
   "source": []
  }
 ],
 "metadata": {
  "kernelspec": {
   "display_name": "Python 3 (ipykernel)",
   "language": "python",
   "name": "python3"
  },
  "language_info": {
   "codemirror_mode": {
    "name": "ipython",
    "version": 3
   },
   "file_extension": ".py",
   "mimetype": "text/x-python",
   "name": "python",
   "nbconvert_exporter": "python",
   "pygments_lexer": "ipython3",
   "version": "3.9.13"
  }
 },
 "nbformat": 4,
 "nbformat_minor": 5
}
